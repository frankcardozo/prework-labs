{
 "cells": [
  {
   "cell_type": "markdown",
   "metadata": {},
   "source": [
    "<img src=\"https://bit.ly/2VnXWr2\" width=\"100\" align=\"left\">"
   ]
  },
  {
   "cell_type": "markdown",
   "metadata": {},
   "source": [
    "# The Snail and the Well\n",
    "\n",
    "A snail falls at the bottom of a 125 cm well. Each day the snail rises 30 cm. But at night, while sleeping, slides 20 cm because the walls are wet. How many days does it take for the snail to escape the well?\n",
    "\n",
    "**Hint**: The snail gets out of the well when it surpasses the 125cm of height.\n",
    "\n",
    "## Tools\n",
    "\n",
    "1. Loop: **while**\n",
    "2. Conditional statements: **if-else**\n",
    "3. Function: **print()**\n",
    "\n",
    "## Tasks\n",
    "\n",
    "#### 1. Assign the challenge data to variables with representative names: `well_height`, `daily_distance`, `nightly_distance` and `snail_position`."
   ]
  },
  {
   "cell_type": "code",
   "execution_count": 1,
   "metadata": {},
   "outputs": [],
   "source": [
    "well_height = 125\n",
    "daily_distance = 30\n",
    "nightly_distance = 20\n",
    "snail_position = daily_distance - nightly_distance"
   ]
  },
  {
   "cell_type": "markdown",
   "metadata": {},
   "source": [
    "#### 2. Create a variable `days` to keep count of the days that pass until the snail escapes the well. "
   ]
  },
  {
   "cell_type": "code",
   "execution_count": 2,
   "metadata": {},
   "outputs": [],
   "source": [
    "days = 0\n",
    "snail_position_final = 0"
   ]
  },
  {
   "cell_type": "markdown",
   "metadata": {},
   "source": [
    "#### 3. Find the solution to the challenge using the variables defined above. "
   ]
  },
  {
   "cell_type": "code",
   "execution_count": 3,
   "metadata": {},
   "outputs": [
    {
     "name": "stdout",
     "output_type": "stream",
     "text": [
      "Daily progress = 1\n",
      "Daily progress = 2\n",
      "Daily progress = 3\n",
      "Daily progress = 4\n",
      "Daily progress = 5\n",
      "Daily progress = 6\n",
      "Daily progress = 7\n",
      "Daily progress = 8\n",
      "Daily progress = 9\n",
      "Daily progress = 10\n",
      "Daily progress = 11\n",
      "Daily progress = 12\n"
     ]
    }
   ],
   "source": [
    "while snail_position_final <= well_height:\n",
    "    snail_position_final += snail_position\n",
    "    days += 1\n",
    "    \n",
    "    if snail_position_final <= well_height:\n",
    "        print(\"Daily progress =\", days)\n",
    "    else:\n",
    "        continue\n",
    "        \n",
    "\n",
    "        \n",
    "    "
   ]
  },
  {
   "cell_type": "markdown",
   "metadata": {},
   "source": [
    "#### 4. Print the solution."
   ]
  },
  {
   "cell_type": "code",
   "execution_count": 4,
   "metadata": {},
   "outputs": [
    {
     "name": "stdout",
     "output_type": "stream",
     "text": [
      "The snail took 13 days\n"
     ]
    }
   ],
   "source": [
    "print(\"The snail took\", days, \"days\")\n"
   ]
  },
  {
   "cell_type": "markdown",
   "metadata": {},
   "source": [
    "## Bonus\n",
    "The distance traveled by the snail each day is now defined by a list.\n",
    "```\n",
    "advance_cm = [30, 21, 33, 77, 44, 45, 23, 45, 12, 34, 55]\n",
    "```\n",
    "On the first day, the snail rises 30cm but during the night it slides 20cm. On the second day, the snail rises 21cm but during the night it slides 20cm, and so on. \n",
    "\n",
    "#### 1. How many days does it take for the snail to escape the well?\n",
    "Follow the same guidelines as in the previous challenge.\n",
    "\n",
    "**Hint**: Remember that the snail gets out of the well when it surpasses the 125cm of height."
   ]
  },
  {
   "cell_type": "code",
   "execution_count": 111,
   "metadata": {},
   "outputs": [
    {
     "name": "stdout",
     "output_type": "stream",
     "text": [
      "Current position of snail: 10\n",
      "Day: 1\n",
      "Current position of snail: 11\n",
      "Day: 1\n",
      "Day: 2\n",
      "Current position of snail: 24\n",
      "Day: 1\n",
      "Day: 2\n",
      "Day: 3\n",
      "Current position of snail: 81\n",
      "Day: 1\n",
      "Day: 2\n",
      "Day: 3\n",
      "Day: 4\n",
      "Current position of snail: 105\n",
      "Day: 1\n",
      "Day: 2\n",
      "Day: 3\n",
      "Day: 4\n",
      "Day: 5\n",
      "Snail is free\n",
      "The snail took 5 days to get out!\n"
     ]
    }
   ],
   "source": [
    "advance_cm = [30, 21, 33, 77, 44, 45, 23, 45, 12, 34, 55]\n",
    "nightly_distance = [20, 20, 20, 20, 20, 20, 20, 20, 20, 20, 20]\n",
    "advance = []\n",
    "well_height = 125\n",
    "displacement = 0\n",
    "days = 0\n",
    "\n",
    "for i in range(len(advance_cm)):\n",
    "    \n",
    "    advance.append(advance_cm[i] - nightly_distance[i])\n",
    "    displacement += advance[i]\n",
    "    if displacement <= 125:\n",
    "        print(\"Current position of snail:\", displacement)\n",
    "        \n",
    "    else:\n",
    "        print(\"Snail is free\")\n",
    "        break\n",
    "        \n",
    "    for days in range(len(advance)):\n",
    "        days += 1\n",
    "        print(\"Day:\", days)\n",
    "        \n",
    "        \n",
    "print(\"The snail took\", days, \"days to get out!\")\n",
    "        \n",
    "        "
   ]
  },
  {
   "cell_type": "markdown",
   "metadata": {},
   "source": [
    "#### 2. What is its maximum displacement in one day? And its minimum? Calculate the displacement using only the travel distance of the days used to get out of the well. \n",
    "**Hint**: Remember that displacement means the total distance risen taking into account that the snail slides at night.  "
   ]
  },
  {
   "cell_type": "code",
   "execution_count": 120,
   "metadata": {},
   "outputs": [
    {
     "name": "stdout",
     "output_type": "stream",
     "text": [
      "Maximum displcement in one day =  57\n",
      "Minimum displcement in one day =  1\n"
     ]
    }
   ],
   "source": [
    "print(\"Maximum displcement in one day = \", max(advance))\n",
    "print(\"Minimum displcement in one day = \", min(advance))"
   ]
  },
  {
   "cell_type": "markdown",
   "metadata": {},
   "source": [
    "#### 3. What is its average progress? Take into account the snail slides at night."
   ]
  },
  {
   "cell_type": "code",
   "execution_count": 135,
   "metadata": {},
   "outputs": [
    {
     "name": "stdout",
     "output_type": "stream",
     "text": [
      "Average = 21.666666666666668\n"
     ]
    }
   ],
   "source": [
    "print(\"Average =\", sum(advance)/len(advance))"
   ]
  },
  {
   "cell_type": "markdown",
   "metadata": {},
   "source": [
    "#### 4. What is the standard deviation of its displacement? Take into account the snail slides at night."
   ]
  },
  {
   "cell_type": "code",
   "execution_count": 127,
   "metadata": {},
   "outputs": [
    {
     "data": {
      "text/plain": [
       "19.510680835549195"
      ]
     },
     "execution_count": 127,
     "metadata": {},
     "output_type": "execute_result"
    }
   ],
   "source": [
    "import statistics\n",
    "statistics.stdev(advance)"
   ]
  },
  {
   "cell_type": "code",
   "execution_count": null,
   "metadata": {},
   "outputs": [],
   "source": []
  },
  {
   "cell_type": "code",
   "execution_count": null,
   "metadata": {},
   "outputs": [],
   "source": []
  },
  {
   "cell_type": "code",
   "execution_count": null,
   "metadata": {},
   "outputs": [],
   "source": []
  }
 ],
 "metadata": {
  "kernelspec": {
   "display_name": "Python 3",
   "language": "python",
   "name": "python3"
  },
  "language_info": {
   "codemirror_mode": {
    "name": "ipython",
    "version": 3
   },
   "file_extension": ".py",
   "mimetype": "text/x-python",
   "name": "python",
   "nbconvert_exporter": "python",
   "pygments_lexer": "ipython3",
   "version": "3.7.4"
  }
 },
 "nbformat": 4,
 "nbformat_minor": 2
}
