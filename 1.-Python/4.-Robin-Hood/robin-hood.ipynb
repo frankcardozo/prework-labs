{
 "cells": [
  {
   "cell_type": "markdown",
   "metadata": {},
   "source": [
    "<img src=\"https://bit.ly/2VnXWr2\" width=\"100\" align=\"left\"/>"
   ]
  },
  {
   "cell_type": "markdown",
   "metadata": {},
   "source": [
    "# Robin Hood\n",
    "Robin Hood has entered a competition to win the archery contest in Sherwood. With his bow and arrows, he needs to shoot on a target and try to hit as close as possible to the center.\n",
    "\n",
    "![](images/arrows.jpg)\n",
    "\n",
    "## Context\n",
    "In this challenge, the landing position of arrows shot by archers in the competition will be represented using 2-dimensional coordinates. \n",
    "\n",
    "In the 2-dimensional space, a point can be defined by a pair of values that correspond to the horizontal coordinate (x) and the vertical coordinate (y). For example, in our case, an arrow that hits the center of the archery target will land in position (0, 0) on the coordinate axes. \n",
    "\n",
    "The space can be divided into 4 zones (quadrants): Q1, Q2, Q3, Q4. If a point is in Q1, both its x coordinate and y coordinate are positive. Any point with a null x or y coordinate is considered to not belong to any quadrant. \n",
    "\n",
    "If you want to know more about the cartesian coordinate system, you can check this [link](https://en.wikipedia.org/wiki/Cartesian_coordinate_system). \n",
    "\n",
    "## Tools\n",
    "You don't necessarily need to use all the tools. Maybe you opt to use some of them or completely different ones, they are given to help you shape the exercise. Programming exercises can be solved in many different ways.\n",
    "* Data structures: **lists, sets, tuples**\n",
    "* Conditional statements: **if-elif-else**\n",
    "* Loop: **while/for**\n",
    "* Minimum (optional sorting)\n",
    "\n",
    "## Tasks\n",
    "Robin Hood has hit the following points:"
   ]
  },
  {
   "cell_type": "code",
   "execution_count": 98,
   "metadata": {},
   "outputs": [],
   "source": [
    "points = [(4, 5), (0, 2), (4, 7), (1, -3), (3, -2), (4, 5), (3, 2), (5, 7), (-5, 7), (2, 2), (-4, 5), (0, -2),\n",
    "          (-4, 7), (-1, 3), (-3, 2), (-4, -5), (-3, 2), (5, 7), (5, 7), (2, 2), (9, 9), (-8, -9)]"
   ]
  },
  {
   "cell_type": "markdown",
   "metadata": {},
   "source": [
    "#### 1. Robin Hood is famous for hitting an arrow with another arrow. Find the coordinates of the points where an arrow hits another arrow."
   ]
  },
  {
   "cell_type": "code",
   "execution_count": 99,
   "metadata": {},
   "outputs": [
    {
     "name": "stdout",
     "output_type": "stream",
     "text": [
      "[1, 1, 1, 2, 1, 3, 1, 1, 1, 2, 1, 1, 2, 1, 1, 1, 1]\n"
     ]
    }
   ],
   "source": [
    "arrows = []\n",
    "points_set = set(points)\n",
    "\n",
    "for arrow in points_set:\n",
    "    arrows.append(points.count(arrow))\n",
    "        \n",
    "print(arrows)"
   ]
  },
  {
   "cell_type": "markdown",
   "metadata": {},
   "source": [
    "#### 2. Calculate how many arrows have fallen in each quadrant. \n",
    "**Note**: the arrows that fall in the axis (x=0 or y=0) don't belong to any quadrant."
   ]
  },
  {
   "cell_type": "code",
   "execution_count": 100,
   "metadata": {},
   "outputs": [
    {
     "name": "stdout",
     "output_type": "stream",
     "text": [
      "Don't belong to any quadrant\n",
      "Don't belong to any quadrant\n",
      "-----\n",
      "Quadrant 1 ---> 10 \n",
      "Quadrant 2 ---> 6 \n",
      "Quadrant 3 ---> 2 \n",
      "Quadrant 4 ----> 2\n"
     ]
    }
   ],
   "source": [
    "Q1 = []\n",
    "Q2 = []\n",
    "Q3 = []\n",
    "Q4 = []\n",
    "\n",
    "for x,y in points:\n",
    "    if x > 0 and y > 0:\n",
    "        Q1.append(points[0][0])\n",
    "        \n",
    "    elif x < 0 and y > 0:\n",
    "        Q2.append(points[0][0])\n",
    "        \n",
    "    elif x < 0 and y < 0:\n",
    "        Q3.append(points[0][0])\n",
    "        \n",
    "    elif x > 0 and y < 0:\n",
    "        Q4.append(points[0][0])\n",
    "    \n",
    "    elif x == 0 or y == 0:\n",
    "        print(\"Don't belong to any quadrant\")\n",
    "        \n",
    "\n",
    "print(\"-----\")        \n",
    "print(\"Quadrant 1 --->\", len(Q1),\"\\nQuadrant 2 --->\", len(Q2), \"\\nQuadrant 3 --->\", len(Q3),\"\\nQuadrant 4 ---->\", len(Q4))\n",
    " \n",
    "            "
   ]
  },
  {
   "cell_type": "markdown",
   "metadata": {},
   "source": [
    "#### 3. Find the point closest to the center. Calculate its distance to the center. \n",
    "Take into account that there might be more than one point at the minimum distance to the center.\n",
    "\n",
    "**Hint**: Use the Euclidean distance. You can find more information about it [here](https://en.wikipedia.org/wiki/Euclidean_distance).  \n",
    "**Hint**: Defining a function that calculates the distance to the center can help."
   ]
  },
  {
   "cell_type": "code",
   "execution_count": 216,
   "metadata": {},
   "outputs": [
    {
     "name": "stdout",
     "output_type": "stream",
     "text": [
      "points: [(4, 5), (0, 2), (4, 7), (1, -3), (3, -2), (4, 5), (3, 2), (5, 7), (-5, 7), (2, 2), (-4, 5), (0, -2), (-4, 7), (-1, 3), (-3, 2), (-4, -5), (-3, 2), (5, 7), (5, 7), (2, 2), (9, 9), (-8, -9)]\n",
      "\n",
      "Closest point to the center: (0, 2)\n",
      "\n",
      "Distance of the closest point to the center: 2.0\n"
     ]
    }
   ],
   "source": [
    "import math\n",
    "from math import sqrt\n",
    "\n",
    "#Center or origin x2 = 0 || y2 = 0\n",
    "print(\"points:\",points)\n",
    "\n",
    "def Distance(x1,y1,x2,y2):\n",
    "                    \n",
    "        distance = math.sqrt(((x1-x2)**2) + ((y1-y2)**2))\n",
    "        \n",
    "        return distance\n",
    "    \n",
    "print(\"\\nClosest point to the center:\", points[1])\n",
    "print(\"\\nDistance of the closest point to the center:\", Distance(points[1][0], points[1][1],0,0))\n",
    "\n"
   ]
  },
  {
   "cell_type": "markdown",
   "metadata": {},
   "source": [
    "#### 4. If the archery target has a radius of 9, calculate the number of arrows that won't hit the target. \n",
    "**Hint**: Use the function created in step 3. "
   ]
  },
  {
   "cell_type": "code",
   "execution_count": 255,
   "metadata": {},
   "outputs": [
    {
     "name": "stdout",
     "output_type": "stream",
     "text": [
      "On target points ---> 4 5 Distance ---> 5.830951894845301\n",
      "On target points ---> 0 2 Distance ---> 8.06225774829855\n",
      "On target points ---> 4 7 Distance ---> 7.615773105863909\n",
      "On target points ---> 1 -3 Distance ---> 2.0\n",
      "Off target ---> 3 -2 Distance ---> 9.055385138137417\n",
      "On target points ---> 4 5 Distance ---> 5.830951894845301\n",
      "On target points ---> 3 2 Distance ---> 7.0710678118654755\n",
      "On target points ---> 5 7 Distance ---> 8.06225774829855\n",
      "On target points ---> -5 7 Distance ---> 8.602325267042627\n",
      "On target points ---> 2 2 Distance ---> 8.06225774829855\n",
      "On target points ---> -4 5 Distance ---> 7.0710678118654755\n",
      "Off target ---> 0 -2 Distance ---> 9.848857801796104\n",
      "On target points ---> -4 7 Distance ---> 8.602325267042627\n",
      "On target points ---> -1 3 Distance ---> 8.54400374531753\n",
      "On target points ---> -3 2 Distance ---> 7.280109889280518\n",
      "On target points ---> -4 -5 Distance ---> 8.602325267042627\n",
      "On target points ---> -3 2 Distance ---> 7.280109889280518\n",
      "On target points ---> 5 7 Distance ---> 8.06225774829855\n",
      "On target points ---> 5 7 Distance ---> 8.06225774829855\n",
      "On target points ---> 2 2 Distance ---> 8.06225774829855\n",
      "On target points ---> 9 9 Distance ---> 2.8284271247461903\n",
      "On target points ---> -8 -9 Distance ---> 4.242640687119285\n"
     ]
    }
   ],
   "source": [
    "for x1, y1 in points:\n",
    "    if Distance(points[x1][0], points[y1][1],0,0) <= 9:\n",
    "        print(\"On target points --->\", x1, y1,\"Distance --->\", Distance(points[x1][0], points[y1][1],0,0))\n",
    "    else:\n",
    "        print(\"Off target --->\", x1, y1,\"Distance --->\", Distance(points[x1][0], points[y1][1],0,0))\n",
    "        \n"
   ]
  },
  {
   "cell_type": "code",
   "execution_count": null,
   "metadata": {},
   "outputs": [],
   "source": []
  },
  {
   "cell_type": "code",
   "execution_count": null,
   "metadata": {},
   "outputs": [],
   "source": []
  }
 ],
 "metadata": {
  "kernelspec": {
   "display_name": "Python 3",
   "language": "python",
   "name": "python3"
  },
  "language_info": {
   "codemirror_mode": {
    "name": "ipython",
    "version": 3
   },
   "file_extension": ".py",
   "mimetype": "text/x-python",
   "name": "python",
   "nbconvert_exporter": "python",
   "pygments_lexer": "ipython3",
   "version": "3.7.4"
  }
 },
 "nbformat": 4,
 "nbformat_minor": 2
}
