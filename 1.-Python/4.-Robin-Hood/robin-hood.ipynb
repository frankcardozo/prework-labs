{
 "cells": [
  {
   "cell_type": "markdown",
   "metadata": {},
   "source": [
    "<img src=\"https://bit.ly/2VnXWr2\" width=\"100\" align=\"left\"/>"
   ]
  },
  {
   "cell_type": "markdown",
   "metadata": {},
   "source": [
    "# Robin Hood\n",
    "Robin Hood has entered a competition to win the archery contest in Sherwood. With his bow and arrows, he needs to shoot on a target and try to hit as close as possible to the center.\n",
    "\n",
    "![](images/arrows.jpg)\n",
    "\n",
    "## Context\n",
    "In this challenge, the landing position of arrows shot by archers in the competition will be represented using 2-dimensional coordinates. \n",
    "\n",
    "In the 2-dimensional space, a point can be defined by a pair of values that correspond to the horizontal coordinate (x) and the vertical coordinate (y). For example, in our case, an arrow that hits the center of the archery target will land in position (0, 0) on the coordinate axes. \n",
    "\n",
    "The space can be divided into 4 zones (quadrants): Q1, Q2, Q3, Q4. If a point is in Q1, both its x coordinate and y coordinate are positive. Any point with a null x or y coordinate is considered to not belong to any quadrant. \n",
    "\n",
    "If you want to know more about the cartesian coordinate system, you can check this [link](https://en.wikipedia.org/wiki/Cartesian_coordinate_system). \n",
    "\n",
    "## Tools\n",
    "You don't necessarily need to use all the tools. Maybe you opt to use some of them or completely different ones, they are given to help you shape the exercise. Programming exercises can be solved in many different ways.\n",
    "* Data structures: **lists, sets, tuples**\n",
    "* Conditional statements: **if-elif-else**\n",
    "* Loop: **while/for**\n",
    "* Minimum (optional sorting)\n",
    "\n",
    "## Tasks\n",
    "Robin Hood has hit the following points:"
   ]
  },
  {
   "cell_type": "code",
   "execution_count": 1,
   "metadata": {},
   "outputs": [],
   "source": [
    "points = [(4, 5), (-0, 2), (4, 7), (1, -3), (3, -2), (4, 5), (3, 2), (5, 7), (-5, 7), (2, 2), (-4, 5), (0, -2),\n",
    "          (-4, 7), (-1, 3), (-3, 2), (-4, -5), (-3, 2), (5, 7), (5, 7), (2, 2), (9, 9), (-8, -9)]"
   ]
  },
  {
   "cell_type": "markdown",
   "metadata": {},
   "source": [
    "#### 1. Robin Hood is famous for hitting an arrow with another arrow. Find the coordinates of the points where an arrow hits another arrow."
   ]
  },
  {
   "cell_type": "code",
   "execution_count": 164,
   "metadata": {},
   "outputs": [
    {
     "name": "stdout",
     "output_type": "stream",
     "text": [
      "[((4, 5), (4, 5)), ((4, 5), (4, 7)), ((4, 5), (4, 5)), ((0, 2), (0, 2)), ((0, 2), (0, -2)), ((4, 7), (4, 5)), ((4, 7), (4, 7)), ((4, 7), (4, 5)), ((1, -3), (1, -3)), ((3, -2), (3, -2)), ((3, -2), (3, 2)), ((4, 5), (4, 5)), ((4, 5), (4, 7)), ((4, 5), (4, 5)), ((3, 2), (3, -2)), ((3, 2), (3, 2)), ((5, 7), (5, 7)), ((5, 7), (5, 7)), ((5, 7), (5, 7)), ((-5, 7), (-5, 7)), ((2, 2), (2, 2)), ((2, 2), (2, 2)), ((-4, 5), (-4, 5)), ((-4, 5), (-4, 7)), ((-4, 5), (-4, -5)), ((0, -2), (0, 2)), ((0, -2), (0, -2)), ((-4, 7), (-4, 5)), ((-4, 7), (-4, 7)), ((-4, 7), (-4, -5)), ((-1, 3), (-1, 3)), ((-3, 2), (-3, 2)), ((-3, 2), (-3, 2)), ((-4, -5), (-4, 5)), ((-4, -5), (-4, 7)), ((-4, -5), (-4, -5)), ((-3, 2), (-3, 2)), ((-3, 2), (-3, 2)), ((5, 7), (5, 7)), ((5, 7), (5, 7)), ((5, 7), (5, 7)), ((5, 7), (5, 7)), ((5, 7), (5, 7)), ((5, 7), (5, 7)), ((2, 2), (2, 2)), ((2, 2), (2, 2)), ((9, 9), (9, 9)), ((-8, -9), (-8, -9))]\n",
      "\n",
      "Method 2 ---------->\n",
      "Counter({(5, 7): 3, (4, 5): 2, (2, 2): 2, (-3, 2): 2, (0, 2): 1, (4, 7): 1, (1, -3): 1, (3, -2): 1, (3, 2): 1, (-5, 7): 1, (-4, 5): 1, (0, -2): 1, (-4, 7): 1, (-1, 3): 1, (-4, -5): 1, (9, 9): 1, (-8, -9): 1})\n"
     ]
    }
   ],
   "source": [
    "# My Method (not working)\n",
    "\n",
    "arrows = []\n",
    "count = 0\n",
    "for x in points:\n",
    "    for y in points:\n",
    "        count += 1\n",
    "        if y[0] == x[0]:\n",
    "            arrows.count((x,y))\n",
    "            arrows.append((x,y))\n",
    "            \n",
    "print(arrows)\n",
    "\n",
    "# --- Easier method for counting tuples using collections that I saw online and works well ---\n",
    "\n",
    "print(\"\\nMethod 2 ---------->\")\n",
    "\n",
    "from collections import Counter\n",
    "\n",
    "counter = Counter(points)\n",
    "\n",
    "print(counter)"
   ]
  },
  {
   "cell_type": "markdown",
   "metadata": {},
   "source": [
    "#### 2. Calculate how many arrows have fallen in each quadrant. \n",
    "**Note**: the arrows that fall in the axis (x=0 or y=0) don't belong to any quadrant."
   ]
  },
  {
   "cell_type": "code",
   "execution_count": 165,
   "metadata": {},
   "outputs": [
    {
     "name": "stdout",
     "output_type": "stream",
     "text": [
      "Q1 ---> 12 \n",
      "Q2 ---> 8 \n",
      "Q3 ---> 0 \n",
      "Q4 ----> 0 \n",
      "Q0 ---> 2\n"
     ]
    }
   ],
   "source": [
    "\n",
    "Q1 = []\n",
    "Q2 = []\n",
    "Q3 = []\n",
    "Q4 = []\n",
    "Q0 = []\n",
    "\n",
    "for x in points:\n",
    "    for y in points:\n",
    "\n",
    "        if x[0] > 0 and y[0] > 0:\n",
    "            Q1.append((x,y))\n",
    "            break\n",
    "            \n",
    "        elif x[0] < 0 and y[0] > 0:\n",
    "            Q2.append((x,y))\n",
    "            break\n",
    "        elif x[0] < 0 and y[0] < 0:\n",
    "            Q3.append((x,y))\n",
    "            break\n",
    "        elif x[0] > 0 and y[0] < 0:\n",
    "            Q4.append((x,y))\n",
    "            break\n",
    "        elif x[0] == 0 and y[0] == 0:\n",
    "            Q0.append((x,y))\n",
    "            break\n",
    "\n",
    "\n",
    "print(\"Q1 --->\", len(Q1),\"\\nQ2 --->\", len(Q2), \"\\nQ3 --->\", len(Q3),\"\\nQ4 ---->\", len(Q4),\"\\nQ0 --->\",len(Q0))\n",
    " \n",
    "    # My code is missing something because the outputs are not the expected answers\"\n",
    "            "
   ]
  },
  {
   "cell_type": "markdown",
   "metadata": {},
   "source": [
    "#### 3. Find the point closest to the center. Calculate its distance to the center. \n",
    "Take into account that there might be more than one point at the minimum distance to the center.\n",
    "\n",
    "**Hint**: Use the Euclidean distance. You can find more information about it [here](https://en.wikipedia.org/wiki/Euclidean_distance).  \n",
    "**Hint**: Defining a function that calculates the distance to the center can help."
   ]
  },
  {
   "cell_type": "code",
   "execution_count": 166,
   "metadata": {},
   "outputs": [
    {
     "name": "stdout",
     "output_type": "stream",
     "text": [
      "1.4142135623730951\n"
     ]
    }
   ],
   "source": [
    "import math\n",
    "from math import sqrt\n",
    "\n",
    "\n",
    "#distance = math.sqrt( ((x1[0]-x2[0])**2)+((y1[1]-y2[1])**2) )\n",
    "\n",
    "def Distance(x1,y1, x2,y2):\n",
    "    \n",
    "    for x1, x2 in points:\n",
    "        for y1,y2 in points:\n",
    "            if x2 << 0 and y2 << 0:\n",
    "                distance = math.sqrt(((x1-x2)**2) + ((y1-y2)**2))\n",
    "    \n",
    "            return distance\n",
    "\n",
    "print(Distance(0,0, points[:], points[:]))"
   ]
  },
  {
   "cell_type": "markdown",
   "metadata": {},
   "source": [
    "#### 4. If the archery target has a radius of 9, calculate the number of arrows that won't hit the target. \n",
    "**Hint**: Use the function created in step 3. "
   ]
  },
  {
   "cell_type": "code",
   "execution_count": 167,
   "metadata": {},
   "outputs": [
    {
     "ename": "NameError",
     "evalue": "name 'x2' is not defined",
     "output_type": "error",
     "traceback": [
      "\u001b[0;31m---------------------------------------------------------------------------\u001b[0m",
      "\u001b[0;31mNameError\u001b[0m                                 Traceback (most recent call last)",
      "\u001b[0;32m<ipython-input-167-20ef1148dc57>\u001b[0m in \u001b[0;36m<module>\u001b[0;34m\u001b[0m\n\u001b[0;32m----> 1\u001b[0;31m \u001b[0mprint\u001b[0m\u001b[0;34m(\u001b[0m\u001b[0mDistance\u001b[0m\u001b[0;34m(\u001b[0m\u001b[0;36m9\u001b[0m\u001b[0;34m,\u001b[0m\u001b[0;36m9\u001b[0m\u001b[0;34m,\u001b[0m \u001b[0mpoints\u001b[0m\u001b[0;34m(\u001b[0m\u001b[0mx2\u001b[0m\u001b[0;34m,\u001b[0m\u001b[0my2\u001b[0m\u001b[0;34m)\u001b[0m\u001b[0;34m)\u001b[0m\u001b[0;34m)\u001b[0m\u001b[0;34m\u001b[0m\u001b[0;34m\u001b[0m\u001b[0m\n\u001b[0m",
      "\u001b[0;31mNameError\u001b[0m: name 'x2' is not defined"
     ]
    }
   ],
   "source": [
    "print(Distance(9,9, points(x2,y2)))"
   ]
  },
  {
   "cell_type": "code",
   "execution_count": null,
   "metadata": {},
   "outputs": [],
   "source": []
  }
 ],
 "metadata": {
  "kernelspec": {
   "display_name": "Python 3",
   "language": "python",
   "name": "python3"
  },
  "language_info": {
   "codemirror_mode": {
    "name": "ipython",
    "version": 3
   },
   "file_extension": ".py",
   "mimetype": "text/x-python",
   "name": "python",
   "nbconvert_exporter": "python",
   "pygments_lexer": "ipython3",
   "version": "3.7.4"
  }
 },
 "nbformat": 4,
 "nbformat_minor": 2
}
