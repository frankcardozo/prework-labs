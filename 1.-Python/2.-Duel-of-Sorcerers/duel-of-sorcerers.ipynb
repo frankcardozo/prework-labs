{
 "cells": [
  {
   "cell_type": "markdown",
   "metadata": {},
   "source": [
    "<img src=\"https://bit.ly/2VnXWr2\" width=\"100\" align=\"left\">"
   ]
  },
  {
   "cell_type": "markdown",
   "metadata": {},
   "source": [
    "# Duel of Sorcerers\n",
    "You are witnessing an epic battle between two powerful sorcerers: Gandalf and Saruman. Each sorcerer has 10 spells of variable power in their mind and they are going to throw them one after the other. The winner of the duel will be the one who wins more of those clashes between spells. Spells are represented as a list of 10 integers whose value equals the power of the spell.\n",
    "```\n",
    "gandalf = [10, 11, 13, 30, 22, 11, 10, 33, 22, 22]\n",
    "saruman = [23, 66, 12, 43, 12, 10, 44, 23, 12, 17]\n",
    "```\n",
    "For example:\n",
    "- The first clash is won by Saruman: 10 against 23.\n",
    "- The second clash is won by Saruman: 11 against 66.\n",
    "- ...\n",
    "\n",
    "You will create two variables, one for each sorcerer, where the sum of clashes won will be stored. Depending on which variable is greater at the end of the duel, you will show one of the following three results on the screen:\n",
    "* Gandalf wins\n",
    "* Saruman wins\n",
    "* Tie\n",
    "\n",
    "<img src=\"images/content_lightning_bolt_big.jpg\" width=\"400\">"
   ]
  },
  {
   "cell_type": "markdown",
   "metadata": {},
   "source": [
    "## Tools\n",
    "You don't necessarily need to use all the tools. Maybe you opt to use some of them or completely different ones, they are given to help you shape the exercise. Programming exercises can be solved in many different ways.\n",
    "\n",
    "1. Data structures: **lists, dictionaries**\n",
    "2. Loop: **for loop**\n",
    "3. Conditional statements: **if-elif-else**\n",
    "4. Functions: **range(), len(), print()**\n",
    "\n",
    "## Tasks\n",
    "\n",
    "#### 1. Create two variables called `gandalf` and `saruman` and assign them the spell power lists. Create a variable called `spells` to store the number of spells that the sorcerers cast. "
   ]
  },
  {
   "cell_type": "code",
   "execution_count": 1,
   "metadata": {},
   "outputs": [],
   "source": [
    "gandalf = [10, 11, 13, 30, 22, 11, 10, 33, 22, 22]\n",
    "saruman = [23, 66, 12, 43, 12, 10, 44, 23, 12, 17]\n",
    "spells = 0"
   ]
  },
  {
   "cell_type": "markdown",
   "metadata": {},
   "source": [
    "#### 2. Create two variables called `gandalf_wins` and `saruman_wins`. Set both of them to 0. \n",
    "You will use these variables to count the number of clashes each sorcerer wins. "
   ]
  },
  {
   "cell_type": "code",
   "execution_count": 2,
   "metadata": {},
   "outputs": [],
   "source": [
    "gandalf_wins = 0\n",
    "saruman_wins = 0"
   ]
  },
  {
   "cell_type": "markdown",
   "metadata": {},
   "source": [
    "#### 3. Using the lists of spells of both sorcerers, update variables `gandalf_wins` and `saruman_wins` to count the number of times each sorcerer wins a clash. "
   ]
  },
  {
   "cell_type": "code",
   "execution_count": 3,
   "metadata": {},
   "outputs": [
    {
     "name": "stdout",
     "output_type": "stream",
     "text": [
      "Spells = 39\n",
      "Gandalf wins = 6\n",
      "Saruman wins = 4\n"
     ]
    }
   ],
   "source": [
    "for x in zip(gandalf, saruman):\n",
    "    spells = sum(x)\n",
    "    \n",
    "print(\"Spells =\", spells)        \n",
    "\n",
    "for i in range(len(gandalf)):\n",
    "    \n",
    "    if gandalf[i] >= saruman[i]:\n",
    "        gandalf_wins += 1\n",
    "    elif gandalf[i] <= saruman[i]:\n",
    "        saruman_wins += 1\n",
    "    else:\n",
    "        break\n",
    "        \n",
    "print(\"Gandalf wins =\", gandalf_wins)\n",
    "print(\"Saruman wins =\", saruman_wins)"
   ]
  },
  {
   "cell_type": "markdown",
   "metadata": {},
   "source": [
    "#### 4. Who won the battle?\n",
    "Print `Gandalf wins`, `Saruman wins` or `Tie` depending on the result. "
   ]
  },
  {
   "cell_type": "code",
   "execution_count": 4,
   "metadata": {},
   "outputs": [
    {
     "name": "stdout",
     "output_type": "stream",
     "text": [
      "Gandalf Wins\n"
     ]
    }
   ],
   "source": [
    "if gandalf_wins >= saruman_wins:\n",
    "    print(\"Gandalf Wins\")\n",
    "elif gandalf_wins <= saruman_wins:\n",
    "    print(\"Saruman Wins\")\n",
    "else:\n",
    "    print(\"Tie\")\n",
    "        \n"
   ]
  },
  {
   "cell_type": "markdown",
   "metadata": {},
   "source": [
    "## Bonus\n",
    "\n",
    "In this bonus challenge, you'll need to check the winner of the battle but this time, a sorcerer wins if he succeeds in winning 3 spell clashes in a row.\n",
    "\n",
    "Also, the spells now have a name and there is a dictionary that associates that name to a power.\n",
    "\n",
    "```\n",
    "POWER = {\n",
    "    'Fireball': 50, \n",
    "    'Lightning bolt': 40, \n",
    "    'Magic arrow': 10, \n",
    "    'Black Tentacles': 25, \n",
    "    'Contagion': 45\n",
    "}\n",
    "\n",
    "gandalf = ['Fireball', 'Lightning bolt', 'Lightning bolt', 'Magic arrow', 'Fireball', \n",
    "           'Magic arrow', 'Lightning bolt', 'Fireball', 'Fireball', 'Fireball']\n",
    "saruman = ['Contagion', 'Contagion', 'Black Tentacles', 'Fireball', 'Black Tentacles', \n",
    "           'Lightning bolt', 'Magic arrow', 'Contagion', 'Magic arrow', 'Magic arrow']\n",
    "```\n",
    "\n",
    "#### 1. Create variables `POWER`, `gandalf` and `saruman` as seen above. Create a variable called `spells` to store the number of spells that the sorcerers cast. "
   ]
  },
  {
   "cell_type": "code",
   "execution_count": 17,
   "metadata": {},
   "outputs": [],
   "source": [
    "POWER = {\n",
    "    'Fireball': 50, \n",
    "    'Lightning bolt': 40, \n",
    "    'Magic arrow': 10, \n",
    "    'Black Tentacles': 25, \n",
    "    'Contagion': 45\n",
    "}\n",
    "\n",
    "gandalf = ['Fireball', 'Lightning bolt', 'Lightning bolt', 'Magic arrow', 'Fireball', \n",
    "           'Magic arrow', 'Lightning bolt', 'Fireball', 'Fireball', 'Fireball']\n",
    "\n",
    "saruman = ['Contagion', 'Contagion', 'Black Tentacles', 'Fireball', 'Black Tentacles', \n",
    "           'Lightning bolt', 'Magic arrow', 'Contagion', 'Magic arrow', 'Magic arrow']\n",
    "\n",
    "spells = []\n"
   ]
  },
  {
   "cell_type": "markdown",
   "metadata": {},
   "source": [
    "#### 2. Create two variables called `gandalf_wins` and `saruman_wins`. Set both of them to 0. "
   ]
  },
  {
   "cell_type": "code",
   "execution_count": 18,
   "metadata": {},
   "outputs": [],
   "source": [
    "gandalf_wins = 0\n",
    "\n",
    "saruman_wins = 0"
   ]
  },
  {
   "cell_type": "markdown",
   "metadata": {},
   "source": [
    "#### 3. Create two variables called `gandalf_power` and `saruman_power` to store the list of spell powers of each sorcerer."
   ]
  },
  {
   "cell_type": "code",
   "execution_count": 7,
   "metadata": {},
   "outputs": [],
   "source": [
    "gandalf_power = []\n",
    "\n",
    "saruman_power = []"
   ]
  },
  {
   "cell_type": "markdown",
   "metadata": {},
   "source": [
    "#### 4. The battle starts! Using the variables you've created above, code the execution of spell clashes. Remember that a sorcerer wins if he succeeds in winning 3 spell clashes in a row. \n",
    "If a clash ends up in a tie, the counter of wins in a row is not restarted to 0. Remember to print who is the winner of the battle. "
   ]
  },
  {
   "cell_type": "code",
   "execution_count": 60,
   "metadata": {},
   "outputs": [
    {
     "name": "stdout",
     "output_type": "stream",
     "text": [
      "Gandalf Power = [50, 40, 10, 25, 45, 50, 50, 50, 50, 50, 50, 50, 50, 50, 50, 40, 40, 40, 40, 40, 40, 40, 40, 40, 40, 10, 10, 10, 10, 10, 10, 10, 10, 10, 10, 25, 25, 25, 25, 25, 25, 25, 25, 25, 25, 45, 45, 45, 45, 45, 45, 45, 45, 45, 45, 50, 50, 50, 50, 50, 50, 50, 50, 50, 50, 40, 40, 40, 40, 40, 40, 40, 40, 40, 40, 10, 10, 10, 10, 10, 10, 10, 10, 10, 10, 25, 25, 25, 25, 25, 25, 25, 25, 25, 25, 45, 45, 45, 45, 45, 45, 45, 45, 45, 45, 50, 40, 10, 25, 45, 50, 40, 10, 25, 45, 50, 40, 10, 25, 45, 50, 40, 10, 25, 45, 50, 50, 50, 40, 10, 25, 45, 50, 40, 10, 25, 45, 50, 40, 10, 25, 45, 50] \n",
      "Saruman Power = [50, 40, 10, 25, 45, 50, 40, 10, 25, 45, 50, 40, 10, 25, 45, 50, 40, 10, 25, 45, 50, 50, 50, 40, 10, 25, 45, 50, 40, 10, 25, 45, 50, 40, 10, 25, 45, 50]\n",
      "Gandalf Power = [50, 40, 10, 25, 45, 50, 50, 50, 50, 50, 50, 50, 50, 50, 50, 40, 40, 40, 40, 40, 40, 40, 40, 40, 40, 10, 10, 10, 10, 10, 10, 10, 10, 10, 10, 25, 25, 25, 25, 25, 25, 25, 25, 25, 25, 45, 45, 45, 45, 45, 45, 45, 45, 45, 45, 50, 50, 50, 50, 50, 50, 50, 50, 50, 50, 40, 40, 40, 40, 40, 40, 40, 40, 40, 40, 10, 10, 10, 10, 10, 10, 10, 10, 10, 10, 25, 25, 25, 25, 25, 25, 25, 25, 25, 25, 45, 45, 45, 45, 45, 45, 45, 45, 45, 45, 50, 40, 10, 25, 45, 50, 40, 10, 25, 45, 50, 40, 10, 25, 45, 50, 40, 10, 25, 45, 50, 50, 50, 40, 10, 25, 45, 50, 40, 10, 25, 45, 50, 40, 10, 25, 45, 50, 40] \n",
      "Saruman Power = [50, 40, 10, 25, 45, 50, 40, 10, 25, 45, 50, 40, 10, 25, 45, 50, 40, 10, 25, 45, 50, 50, 50, 40, 10, 25, 45, 50, 40, 10, 25, 45, 50, 40, 10, 25, 45, 50, 40]\n",
      "Gandalf Power = [50, 40, 10, 25, 45, 50, 50, 50, 50, 50, 50, 50, 50, 50, 50, 40, 40, 40, 40, 40, 40, 40, 40, 40, 40, 10, 10, 10, 10, 10, 10, 10, 10, 10, 10, 25, 25, 25, 25, 25, 25, 25, 25, 25, 25, 45, 45, 45, 45, 45, 45, 45, 45, 45, 45, 50, 50, 50, 50, 50, 50, 50, 50, 50, 50, 40, 40, 40, 40, 40, 40, 40, 40, 40, 40, 10, 10, 10, 10, 10, 10, 10, 10, 10, 10, 25, 25, 25, 25, 25, 25, 25, 25, 25, 25, 45, 45, 45, 45, 45, 45, 45, 45, 45, 45, 50, 40, 10, 25, 45, 50, 40, 10, 25, 45, 50, 40, 10, 25, 45, 50, 40, 10, 25, 45, 50, 50, 50, 40, 10, 25, 45, 50, 40, 10, 25, 45, 50, 40, 10, 25, 45, 50, 40, 10] \n",
      "Saruman Power = [50, 40, 10, 25, 45, 50, 40, 10, 25, 45, 50, 40, 10, 25, 45, 50, 40, 10, 25, 45, 50, 50, 50, 40, 10, 25, 45, 50, 40, 10, 25, 45, 50, 40, 10, 25, 45, 50, 40, 10]\n",
      "Gandalf Power = [50, 40, 10, 25, 45, 50, 50, 50, 50, 50, 50, 50, 50, 50, 50, 40, 40, 40, 40, 40, 40, 40, 40, 40, 40, 10, 10, 10, 10, 10, 10, 10, 10, 10, 10, 25, 25, 25, 25, 25, 25, 25, 25, 25, 25, 45, 45, 45, 45, 45, 45, 45, 45, 45, 45, 50, 50, 50, 50, 50, 50, 50, 50, 50, 50, 40, 40, 40, 40, 40, 40, 40, 40, 40, 40, 10, 10, 10, 10, 10, 10, 10, 10, 10, 10, 25, 25, 25, 25, 25, 25, 25, 25, 25, 25, 45, 45, 45, 45, 45, 45, 45, 45, 45, 45, 50, 40, 10, 25, 45, 50, 40, 10, 25, 45, 50, 40, 10, 25, 45, 50, 40, 10, 25, 45, 50, 50, 50, 40, 10, 25, 45, 50, 40, 10, 25, 45, 50, 40, 10, 25, 45, 50, 40, 10, 25] \n",
      "Saruman Power = [50, 40, 10, 25, 45, 50, 40, 10, 25, 45, 50, 40, 10, 25, 45, 50, 40, 10, 25, 45, 50, 50, 50, 40, 10, 25, 45, 50, 40, 10, 25, 45, 50, 40, 10, 25, 45, 50, 40, 10, 25]\n",
      "Gandalf Power = [50, 40, 10, 25, 45, 50, 50, 50, 50, 50, 50, 50, 50, 50, 50, 40, 40, 40, 40, 40, 40, 40, 40, 40, 40, 10, 10, 10, 10, 10, 10, 10, 10, 10, 10, 25, 25, 25, 25, 25, 25, 25, 25, 25, 25, 45, 45, 45, 45, 45, 45, 45, 45, 45, 45, 50, 50, 50, 50, 50, 50, 50, 50, 50, 50, 40, 40, 40, 40, 40, 40, 40, 40, 40, 40, 10, 10, 10, 10, 10, 10, 10, 10, 10, 10, 25, 25, 25, 25, 25, 25, 25, 25, 25, 25, 45, 45, 45, 45, 45, 45, 45, 45, 45, 45, 50, 40, 10, 25, 45, 50, 40, 10, 25, 45, 50, 40, 10, 25, 45, 50, 40, 10, 25, 45, 50, 50, 50, 40, 10, 25, 45, 50, 40, 10, 25, 45, 50, 40, 10, 25, 45, 50, 40, 10, 25, 45] \n",
      "Saruman Power = [50, 40, 10, 25, 45, 50, 40, 10, 25, 45, 50, 40, 10, 25, 45, 50, 40, 10, 25, 45, 50, 50, 50, 40, 10, 25, 45, 50, 40, 10, 25, 45, 50, 40, 10, 25, 45, 50, 40, 10, 25, 45]\n"
     ]
    }
   ],
   "source": [
    "for spell, power in POWER.items():\n",
    "        \n",
    "    if spell in range(len(gandalf)) or range(len(saruman)):\n",
    "                        \n",
    "        gandalf_power.append(power)                 \n",
    "        saruman_power.append(power)\n",
    "    \n",
    "    print(\"Gandalf Power =\",gandalf_power, \"\\nSaruman Power =\",saruman_power)\n",
    "    \n",
    "\n"
   ]
  },
  {
   "cell_type": "markdown",
   "metadata": {},
   "source": [
    "#### 5. Find the average spell power of Gandalf and Saruman. "
   ]
  },
  {
   "cell_type": "code",
   "execution_count": 61,
   "metadata": {},
   "outputs": [
    {
     "name": "stdout",
     "output_type": "stream",
     "text": [
      "34.21768707482993\n",
      "34.76190476190476\n"
     ]
    }
   ],
   "source": [
    "avg_power_gandalf = sum(gandalf_power)/len(gandalf_power)\n",
    "print(avg_power_gandalf)\n",
    "\n",
    "avg_power_saruman = sum(saruman_power)/len(saruman_power)\n",
    "print(avg_power_saruman)"
   ]
  },
  {
   "cell_type": "markdown",
   "metadata": {},
   "source": [
    "#### 6. Find the standard deviation of the spell power of Gandalf and Saruman. "
   ]
  },
  {
   "cell_type": "code",
   "execution_count": 62,
   "metadata": {},
   "outputs": [
    {
     "name": "stdout",
     "output_type": "stream",
     "text": [
      "ST DEV Gandalf = 14.696713362341656\n",
      "ST DEV Saruman = 14.85508785930873\n"
     ]
    }
   ],
   "source": [
    "import statistics as stats\n",
    "\n",
    "st_dev_gandalf = stats.stdev(gandalf_power)\n",
    "\n",
    "print(\"ST DEV Gandalf =\", st_dev_gandalf)\n",
    "\n",
    "st_dev_saruman = stats.stdev(saruman_power)\n",
    "\n",
    "print(\"ST DEV Saruman =\", st_dev_saruman)\n"
   ]
  },
  {
   "cell_type": "code",
   "execution_count": null,
   "metadata": {},
   "outputs": [],
   "source": []
  },
  {
   "cell_type": "code",
   "execution_count": null,
   "metadata": {},
   "outputs": [],
   "source": []
  },
  {
   "cell_type": "code",
   "execution_count": null,
   "metadata": {},
   "outputs": [],
   "source": []
  }
 ],
 "metadata": {
  "kernelspec": {
   "display_name": "Python 3",
   "language": "python",
   "name": "python3"
  },
  "language_info": {
   "codemirror_mode": {
    "name": "ipython",
    "version": 3
   },
   "file_extension": ".py",
   "mimetype": "text/x-python",
   "name": "python",
   "nbconvert_exporter": "python",
   "pygments_lexer": "ipython3",
   "version": "3.7.4"
  }
 },
 "nbformat": 4,
 "nbformat_minor": 2
}
